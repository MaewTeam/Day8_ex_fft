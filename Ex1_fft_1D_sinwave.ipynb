{
  "nbformat": 4,
  "nbformat_minor": 0,
  "metadata": {
    "colab": {
      "name": "Ex1_fft_1D_sinwave.ipynb",
      "version": "0.3.2",
      "provenance": [],
      "include_colab_link": true
    },
    "kernelspec": {
      "name": "python3",
      "display_name": "Python 3"
    }
  },
  "cells": [
    {
      "cell_type": "markdown",
      "metadata": {
        "id": "view-in-github",
        "colab_type": "text"
      },
      "source": [
        "<a href=\"https://colab.research.google.com/github/MaewTeam/Day8_ex_fft/blob/master/Ex1_fft_1D_sinwave.ipynb\" target=\"_parent\"><img src=\"https://colab.research.google.com/assets/colab-badge.svg\" alt=\"Open In Colab\"/></a>"
      ]
    },
    {
      "metadata": {
        "id": "N_JVbvFO_991",
        "colab_type": "text"
      },
      "cell_type": "markdown",
      "source": [
        "ตัวอย่างการเขียนโปรแกรมเพื่อจำลองการใช้สมการทางคณิตศาสตร์ เพื่อสร้างคลื่ืนสัญญาณ ไซด์"
      ]
    },
    {
      "metadata": {
        "id": "P55uMgc6MzIA",
        "colab_type": "text"
      },
      "cell_type": "markdown",
      "source": [
        "ให้นักศึกษา ทดลองเปลี่ยนแปลง ค่า amplitude และ ค่าความถี่ (ff : frequency )เป็นดังนี้\n",
        "1.  จงแก้ไขข้อมูลที่กำหนดให้ตัวแปร ชื่อ amplitude ให้มีค่าดังนี้ ที่ละ ค่าแล้วไปทำการรันเพื่อสังเกตุผลลัพธ์\n",
        "     1 ,  10 , 50, 100\n",
        "2. จงแก้ไขข้อมูลที่กำหนดให้ตัวแปร ชื่อ ff มีค่าดังนี้ ที่ละ ค่าแล้วไปทำการรันเพื่อสังเกตุผลลัพธ์\n",
        "     1 ,  10 , 20, 30, 50, 80, 100\n",
        "        "
      ]
    },
    {
      "metadata": {
        "id": "lC53pz_J649X",
        "colab_type": "code",
        "colab": {}
      },
      "cell_type": "code",
      "source": [
        "import matplotlib.pyplot as plt\n",
        "import plotly.plotly as py\n",
        "import numpy as np"
      ],
      "execution_count": 0,
      "outputs": []
    },
    {
      "metadata": {
        "id": "jsLy9EdG658G",
        "colab_type": "code",
        "colab": {}
      },
      "cell_type": "code",
      "source": [
        "amplitude = 5 #ค่าความสูงของสัญญาณ"
      ],
      "execution_count": 0,
      "outputs": []
    },
    {
      "metadata": {
        "id": "WQmJef7pNWx3",
        "colab_type": "code",
        "colab": {}
      },
      "cell_type": "code",
      "source": [
        "Fs = 300.0;  # ค่า sampling rate\n",
        "Ts = 1.0/Fs; # ค่า้เวลาที่จะใช้ในการสุ่มข้อมูล เพื่อแบ่งช่วงเวลาออกเป็น ช่องขนาดเล็กๆ ตัวอย่าง ช่วง 0 - 1 แบ่งออกเป็น จำนวน 300  ชุด \n",
        "t = np.arange(0,1,Ts) #ช่วงเวลา(t)ที่ใช้ในการเปลี่ยนแปลง 0 - 1"
      ],
      "execution_count": 0,
      "outputs": []
    },
    {
      "metadata": {
        "id": "s8klQwxONmEt",
        "colab_type": "code",
        "colab": {}
      },
      "cell_type": "code",
      "source": [
        "ff = 80;   # ค่าความถี่"
      ],
      "execution_count": 0,
      "outputs": []
    },
    {
      "metadata": {
        "id": "yUjDiZTzNauB",
        "colab_type": "code",
        "colab": {}
      },
      "cell_type": "code",
      "source": [
        "y = amplitude * np.sin(2*np.pi*ff*t)"
      ],
      "execution_count": 0,
      "outputs": []
    },
    {
      "metadata": {
        "id": "sFU6S0Dd6-5Z",
        "colab_type": "code",
        "colab": {}
      },
      "cell_type": "code",
      "source": [
        "n = len(y) # length of the signal\n",
        "k = np.arange(n)\n",
        "T = n/Fs"
      ],
      "execution_count": 0,
      "outputs": []
    },
    {
      "metadata": {
        "id": "yQ-3txzy7mr_",
        "colab_type": "code",
        "colab": {}
      },
      "cell_type": "code",
      "source": [
        "frq = k/T # two sides frequency range"
      ],
      "execution_count": 0,
      "outputs": []
    },
    {
      "metadata": {
        "id": "f_UKVqGd787J",
        "colab_type": "code",
        "colab": {}
      },
      "cell_type": "code",
      "source": [
        "frq = frq[range(int(n/2))] # one side frequency range"
      ],
      "execution_count": 0,
      "outputs": []
    },
    {
      "metadata": {
        "id": "QpKwc0L771jH",
        "colab_type": "code",
        "colab": {}
      },
      "cell_type": "code",
      "source": [
        "Y = np.fft.fft(y)/n # fft computing and normalization\n",
        "Y = Y[range(int(n/2))]"
      ],
      "execution_count": 0,
      "outputs": []
    },
    {
      "metadata": {
        "id": "gKOhuMRM7C7G",
        "colab_type": "code",
        "outputId": "798ae615-ea9b-4c3b-c58e-7594384b6059",
        "colab": {
          "base_uri": "https://localhost:8080/",
          "height": 283
        }
      },
      "cell_type": "code",
      "source": [
        "fig, ax = plt.subplots(2, 1)\n",
        "ax[0].plot(t,y)\n",
        "ax[0].set_xlabel('Time')\n",
        "ax[0].set_ylabel('Amplitude')\n",
        "ax[1].plot(frq,abs(Y),'r') # plotting the spectrum\n",
        "ax[1].set_xlabel('Freq (Hz)')\n",
        "ax[1].set_ylabel('|Y(freq)|')\n",
        "\n",
        "plt.grid()\n",
        "plt.show()"
      ],
      "execution_count": 0,
      "outputs": [
        {
          "output_type": "display_data",
          "data": {
            "image/png": "[encoded data removed]",
            "text/plain": [
              "<Figure size 432x288 with 2 Axes>"
            ]
          },
          "metadata": {
            "tags": []
          }
        }
      ]
    },
    {
      "metadata": {
        "id": "XwR9aSUIPtHP",
        "colab_type": "text"
      },
      "cell_type": "markdown",
      "source": [
        "จากผลการทดลองพบว่า\n",
        "\n",
        "   การปรับค่าตัวแปรชื่อ ..................  จะส่งผลทำให้เกิดการเปลี่ยนแปลง.......................................\n",
        "   \n",
        "   การปรับค่าตัวแปรชื่อ ..................  จะส่งผลทำให้เกิดการเปลี่ยนแปลง......................................."
      ]
    }
  ]
}